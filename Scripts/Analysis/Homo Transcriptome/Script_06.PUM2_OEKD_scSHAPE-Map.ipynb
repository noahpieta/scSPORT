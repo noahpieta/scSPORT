{
 "cells": [
  {
   "cell_type": "code",
   "execution_count": 1,
   "id": "a1b08eb0-9e9f-4bb4-b4ed-c73244e9b7ff",
   "metadata": {},
   "outputs": [],
   "source": [
    "## loading package \n",
    "import numpy as np\n",
    "import pandas as pd\n",
    "import matplotlib.pyplot as plt \n",
    "from matplotlib import pylab\n",
    "import seaborn as sns \n",
    "from sklearn.metrics.pairwise import cosine_similarity\n",
    "from statannot import add_stat_annotation\n",
    "import matplotlib as mpl\n",
    "from scipy import stats, cluster\n",
    "import glob\n",
    "import re\n",
    "from sklearn.metrics import mean_squared_error, r2_score\n",
    "from statsmodels.stats import multitest\n",
    "from matplotlib.gridspec import GridSpec\n",
    "\n",
    "from matplotlib_venn import venn2, venn3\n",
    "from matplotlib import pyplot as plt\n",
    "\n",
    "import time\n",
    "from scipy.stats.mstats import winsorize\n",
    "\n",
    "import warnings \n",
    "warnings.simplefilter('ignore')\n",
    "\n",
    "## load_large_dataFrame\n",
    "def load_large_dataFrame(input_file, sep=\",\", header=0, index_col=0, chunksize=100000, compressed=False):\n",
    "    if compressed:\n",
    "        TextFileReader = pd.read_csv(input_file, chunksize=chunksize, sep=sep, header=header,index_col=index_col, compression='gzip')\n",
    "    else:\n",
    "        TextFileReader = pd.read_csv(input_file, chunksize=chunksize, sep=sep, header=header,index_col=index_col)\n",
    "    dfList=[]\n",
    "    for df in TextFileReader:\n",
    "        dfList.append(df)\n",
    "    final_df = pd.concat(dfList,sort=False)\n",
    "    return final_df"
   ]
  },
  {
   "cell_type": "markdown",
   "id": "0cacc567-a27e-45e8-ac5e-f8454b60298d",
   "metadata": {},
   "source": [
    "## Structural Changes in PUM2 OE"
   ]
  },
  {
   "cell_type": "markdown",
   "id": "8e47897d-939e-4d36-b187-3837809aa987",
   "metadata": {},
   "source": [
    "### 1. reactivity matrix of PUM2 OE/KD"
   ]
  },
  {
   "cell_type": "code",
   "execution_count": 4,
   "id": "e953bc9a-65af-4ffb-8b58-d9572be669e2",
   "metadata": {},
   "outputs": [
    {
     "data": {
      "text/plain": [
       "control    20\n",
       "pum2       20\n",
       "Name: stage, dtype: int64"
      ]
     },
     "execution_count": 4,
     "metadata": {},
     "output_type": "execute_result"
    }
   ],
   "source": [
    "pum2_oe_reac = load_large_dataFrame(\"../Current_Data/04.Wide_Reac_Matrix_1nt/pum2OE.transcripts.crude_reac.csv\", header=[0,1,2,3], index_col=[0,1])\n",
    "pum2_oe_reac.columns.get_level_values('stage').value_counts()"
   ]
  },
  {
   "cell_type": "code",
   "execution_count": null,
   "id": "6ad7197a-473f-4ce9-bf74-08d804e06014",
   "metadata": {},
   "outputs": [],
   "source": [
    "pum2_oe_mutant = load_large_dataFrame(\"../Current_Data/01.Mutant_Rate_Matrix.10nt/pum2OE.mutant.10nt.csv\", header=[0,1,2,3,4], index_col=[0,1])\n",
    "pum2_oe_coverage = load_large_dataFrame(\"../Current_Data/01.Mutant_Rate_Matrix.10nt/pum2OE.coverage.10nt.csv\", header=[0,1,2,3,4], index_col=[0,1])\n",
    "\n",
    "pum2_kd_mutant = load_large_dataFrame(\"../Current_Data/01.Mutant_Rate_Matrix.10nt/pum2KD.mutant.10nt.csv\", header=[0,1,2,3,4], index_col=[0,1])\n",
    "pum2_kd_coverage = load_large_dataFrame(\"../Current_Data/01.Mutant_Rate_Matrix.10nt/pum2KD.coverage.10nt.csv\", header=[0,1,2,3,4], index_col=[0,1])"
   ]
  }
 ],
 "metadata": {
  "kernelspec": {
   "display_name": "Python 3 (ipykernel)",
   "language": "python",
   "name": "python3"
  },
  "language_info": {
   "codemirror_mode": {
    "name": "ipython",
    "version": 3
   },
   "file_extension": ".py",
   "mimetype": "text/x-python",
   "name": "python",
   "nbconvert_exporter": "python",
   "pygments_lexer": "ipython3",
   "version": "3.9.15"
  }
 },
 "nbformat": 4,
 "nbformat_minor": 5
}
